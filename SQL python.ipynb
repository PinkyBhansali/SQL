{
 "cells": [
  {
   "cell_type": "code",
   "execution_count": 2,
   "id": "35cd77eb",
   "metadata": {},
   "outputs": [
    {
     "name": "stdout",
     "output_type": "stream",
     "text": [
      "Collecting mysql-connector-pythonNote: you may need to restart the kernel to use updated packages.\n",
      "\n",
      "  Downloading mysql_connector_python-8.1.0-cp39-cp39-win_amd64.whl (10.8 MB)\n",
      "     ---------------------------------------- 10.8/10.8 MB 9.3 MB/s eta 0:00:00\n",
      "Collecting protobuf<=4.21.12,>=4.21.1\n",
      "  Downloading protobuf-4.21.12-cp39-cp39-win_amd64.whl (527 kB)\n",
      "     -------------------------------------- 527.0/527.0 kB 8.3 MB/s eta 0:00:00\n",
      "Installing collected packages: protobuf, mysql-connector-python\n",
      "  Attempting uninstall: protobuf\n",
      "    Found existing installation: protobuf 4.24.2\n",
      "    Uninstalling protobuf-4.24.2:\n",
      "      Successfully uninstalled protobuf-4.24.2\n",
      "Successfully installed mysql-connector-python-8.1.0 protobuf-4.21.12\n"
     ]
    }
   ],
   "source": [
    "pip install mysql-connector-python"
   ]
  },
  {
   "cell_type": "code",
   "execution_count": 4,
   "id": "5340d6cf",
   "metadata": {
    "scrolled": true
   },
   "outputs": [],
   "source": [
    "import mysql.connector"
   ]
  },
  {
   "cell_type": "markdown",
   "id": "06c99926",
   "metadata": {},
   "source": [
    "# connect to mysql database"
   ]
  },
  {
   "cell_type": "code",
   "execution_count": 11,
   "id": "73753dc4",
   "metadata": {},
   "outputs": [
    {
     "name": "stdout",
     "output_type": "stream",
     "text": [
      "Connection Established\n"
     ]
    }
   ],
   "source": [
    "try:\n",
    "    connect=mysql.connector.connect(host = \"127.0.0.1\",\n",
    "                                   user = \"root\",\n",
    "                                   password = \"Krishiv@panda21\",\n",
    "                                   database =\"crud_python1\")\n",
    "    mycursor = connect.cursor()\n",
    "    print(\"Connection Established\")\n",
    "except:\n",
    "    print(\"Connection Error\")"
   ]
  },
  {
   "cell_type": "markdown",
   "id": "4b367e64",
   "metadata": {},
   "source": [
    "# Create a Database"
   ]
  },
  {
   "cell_type": "code",
   "execution_count": 9,
   "id": "7af0145d",
   "metadata": {},
   "outputs": [
    {
     "name": "stdout",
     "output_type": "stream",
     "text": [
      "Database Created\n"
     ]
    }
   ],
   "source": [
    "mycursor.execute(\"CREATE DATABASE crud_python1\")\n",
    "connect.commit()\n",
    "\n",
    "print(\"Database Created\")"
   ]
  },
  {
   "cell_type": "markdown",
   "id": "1eac18ce",
   "metadata": {},
   "source": [
    "# Create a table"
   ]
  },
  {
   "cell_type": "code",
   "execution_count": 13,
   "id": "64429006",
   "metadata": {},
   "outputs": [
    {
     "name": "stdout",
     "output_type": "stream",
     "text": [
      "Table is created\n"
     ]
    }
   ],
   "source": [
    "#id, name, email and age\n",
    "\n",
    "mycursor.execute('''CREATE TABLE customers\n",
    "                (id integer primary key,\n",
    "                NAME VARCHAR(30) NOT NULL,\n",
    "                EMAIL VARCHAR(30) NOT NULL,\n",
    "                AGE INTEGER)''')\n",
    "connect.commit()\n",
    "print(\"Table is created\")\n"
   ]
  },
  {
   "cell_type": "markdown",
   "id": "062e1783",
   "metadata": {},
   "source": [
    "# create- Insert new records in customer table"
   ]
  },
  {
   "cell_type": "code",
   "execution_count": 15,
   "id": "cf7eb73f",
   "metadata": {},
   "outputs": [
    {
     "name": "stdout",
     "output_type": "stream",
     "text": [
      "Records inserted sucessfully\n"
     ]
    }
   ],
   "source": [
    "mycursor.execute(\"\"\"INSERT INTO CUSTOMERS VALUES\n",
    "                (1, \"ANIKET\",\"ANIKET@GMAIL.COM\",39),\n",
    "                (2, \"kARTIK\", \"KARTIK@YAHOO.COM\", 40),\n",
    "                (3, \"KRISHIV\", \"kRISHIV@REDIFFMAIL.COM\",28)\"\"\")\n",
    "\n",
    "connect.commit()\n",
    "print(\"Records inserted sucessfully\")"
   ]
  },
  {
   "cell_type": "markdown",
   "id": "3849d184",
   "metadata": {},
   "source": [
    "# READ : Select data from a table"
   ]
  },
  {
   "cell_type": "code",
   "execution_count": 16,
   "id": "5a6fa934",
   "metadata": {},
   "outputs": [
    {
     "name": "stdout",
     "output_type": "stream",
     "text": [
      "[(1, 'ANIKET', 'ANIKET@GMAIL.COM', 39), (2, 'kARTIK', 'KARTIK@YAHOO.COM', 40), (3, 'KRISHIV', 'kRISHIV@REDIFFMAIL.COM', 28)]\n"
     ]
    }
   ],
   "source": [
    "mycursor.execute(\"select * from customers\")\n",
    "myresult = mycursor.fetchall()\n",
    "\n",
    "print(myresult)"
   ]
  },
  {
   "cell_type": "code",
   "execution_count": 17,
   "id": "802af0fb",
   "metadata": {},
   "outputs": [
    {
     "name": "stdout",
     "output_type": "stream",
     "text": [
      "(1, 'ANIKET', 'ANIKET@GMAIL.COM', 39)\n",
      "(2, 'kARTIK', 'KARTIK@YAHOO.COM', 40)\n",
      "(3, 'KRISHIV', 'kRISHIV@REDIFFMAIL.COM', 28)\n"
     ]
    }
   ],
   "source": [
    "for x in myresult:\n",
    "    print(x)"
   ]
  },
  {
   "cell_type": "markdown",
   "id": "4076d9f1",
   "metadata": {},
   "source": [
    "# UPDATE : UPDATE DATA IN TABLE"
   ]
  },
  {
   "cell_type": "code",
   "execution_count": 18,
   "id": "3ad6816c",
   "metadata": {},
   "outputs": [
    {
     "name": "stdout",
     "output_type": "stream",
     "text": [
      "record updated sucessfully\n"
     ]
    }
   ],
   "source": [
    "mycursor.execute(\"update customers set age= 14 where id=1\")\n",
    "\n",
    "connect.commit()\n",
    "print(\"record updated sucessfully\")"
   ]
  },
  {
   "cell_type": "markdown",
   "id": "01a7a956",
   "metadata": {},
   "source": [
    "# DELETE - delete data from the table\n"
   ]
  },
  {
   "cell_type": "code",
   "execution_count": 19,
   "id": "b92edd9f",
   "metadata": {},
   "outputs": [
    {
     "name": "stdout",
     "output_type": "stream",
     "text": [
      "Deleted\n"
     ]
    }
   ],
   "source": [
    "mycursor.execute('delete from customers where id=3')\n",
    "connect.commit()\n",
    "print(\"Deleted\")"
   ]
  },
  {
   "cell_type": "code",
   "execution_count": null,
   "id": "0de95d3e",
   "metadata": {},
   "outputs": [],
   "source": []
  },
  {
   "cell_type": "code",
   "execution_count": null,
   "id": "e63bb236",
   "metadata": {},
   "outputs": [],
   "source": []
  }
 ],
 "metadata": {
  "kernelspec": {
   "display_name": "Python 3 (ipykernel)",
   "language": "python",
   "name": "python3"
  },
  "language_info": {
   "codemirror_mode": {
    "name": "ipython",
    "version": 3
   },
   "file_extension": ".py",
   "mimetype": "text/x-python",
   "name": "python",
   "nbconvert_exporter": "python",
   "pygments_lexer": "ipython3",
   "version": "3.9.13"
  }
 },
 "nbformat": 4,
 "nbformat_minor": 5
}
